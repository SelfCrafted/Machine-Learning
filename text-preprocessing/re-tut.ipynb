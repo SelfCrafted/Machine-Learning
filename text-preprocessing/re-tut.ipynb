{
 "cells": [
  {
   "cell_type": "markdown",
   "metadata": {},
   "source": [
    "# **Re Module**"
   ]
  },
  {
   "cell_type": "code",
   "execution_count": 1,
   "metadata": {},
   "outputs": [],
   "source": [
    "import re"
   ]
  },
  {
   "cell_type": "code",
   "execution_count": 3,
   "metadata": {},
   "outputs": [
    {
     "name": "stdout",
     "output_type": "stream",
     "text": [
      "None\n",
      "None\n",
      "None\n",
      "<re.Match object; span=(0, 10), match='HELLOWORLD'>\n"
     ]
    }
   ],
   "source": [
    "pattern = re.compile(\"^[A-Z]+$\")\n",
    "string:str = \"HELLO\"\n",
    "print(pattern.search(\"HELLO WORLD\"))\n",
    "print(pattern.search(\"Hello world\"))\n",
    "print(pattern.search(\"hELLO WORLD\"))\n",
    "print(pattern.search(\"HELLOWORLD\"))"
   ]
  },
  {
   "cell_type": "markdown",
   "metadata": {},
   "source": [
    "#### **Difference between `match` and `search`**\n",
    "Match just sees at the start\n",
    "Search searches through the entire string\n",
    "\n",
    "Only makes a difference when the expression does not have ***$*** or ***^*** symbol"
   ]
  },
  {
   "cell_type": "code",
   "execution_count": 6,
   "metadata": {},
   "outputs": [
    {
     "name": "stdout",
     "output_type": "stream",
     "text": [
      "<re.Match object; span=(1, 2), match='e'>\n",
      "<re.Match object; span=(10, 11), match='d'>\n",
      "None\n"
     ]
    }
   ],
   "source": [
    "pattern2 = re.compile(\"[a-z]+\")\n",
    "\n",
    "print(pattern2.search(\"HeLLO WORLD\"))\n",
    "print(pattern2.search(\"HELLO WORLd\"))\n",
    "print(pattern2.match(\"HeLLO WORLD\"))"
   ]
  },
  {
   "cell_type": "code",
   "execution_count": 4,
   "metadata": {},
   "outputs": [
    {
     "name": "stdout",
     "output_type": "stream",
     "text": [
      "None\n",
      "None\n",
      "None\n",
      "<re.Match object; span=(0, 10), match='HELLOWORLD'>\n"
     ]
    }
   ],
   "source": [
    "print(pattern.match(\"HELLO WORLD\"))\n",
    "print(pattern.match(\"Hello world\"))\n",
    "print(pattern.match(\"hELLO WORLD\"))\n",
    "print(pattern.match(\"HELLOWORLD\"))"
   ]
  },
  {
   "cell_type": "code",
   "execution_count": 10,
   "metadata": {},
   "outputs": [
    {
     "name": "stdout",
     "output_type": "stream",
     "text": [
      "<re.Match object; span=(0, 14), match='Hello    World'>\n"
     ]
    }
   ],
   "source": [
    "pattern = re.compile(\"^[a-zA-Z ]+$\")\n",
    "print(pattern.match(\"Hello    World\"))"
   ]
  },
  {
   "cell_type": "markdown",
   "metadata": {},
   "source": [
    "### **Practise**"
   ]
  },
  {
   "cell_type": "markdown",
   "metadata": {},
   "source": [
    "#### Pattern\n",
    "- 3 lowercase letter\n",
    "- 3-5 digits\n",
    "- one symbol\n",
    "- upto 2 uppercase characters\n",
    "\n",
    "Valid: *abv4328$AB*"
   ]
  },
  {
   "cell_type": "code",
   "execution_count": 15,
   "metadata": {},
   "outputs": [
    {
     "name": "stdout",
     "output_type": "stream",
     "text": [
      "<re.Match object; span=(0, 10), match='abv4328$AV'>\n",
      "None\n",
      "None\n"
     ]
    }
   ],
   "source": [
    "pattern = re.compile(\"^[a-z]{3}[0-9]{3,5}[^a-zA-Z0-9]{1}[A-Z]{0,2}$\")\n",
    "print(pattern.match(\"abv4328$AV\"))\n",
    "print(pattern.match(\"abv#4328AV\"))\n",
    "print(pattern.match(\"lllKKK321..\"))"
   ]
  },
  {
   "cell_type": "code",
   "execution_count": 19,
   "metadata": {},
   "outputs": [
    {
     "name": "stdout",
     "output_type": "stream",
     "text": [
      "<re.Match object; span=(0, 10), match='HelloWorld'>\n",
      "<re.Match object; span=(0, 10), match='Helo World'>\n",
      "<re.Match object; span=(0, 10), match='Hello)0$#@'>\n",
      "<re.Match object; span=(0, 10), match='0123456789'>\n"
     ]
    }
   ],
   "source": [
    "pattern = re.compile(\"^.{10}$\")\n",
    "print(pattern.match(\"HelloWorld\"))\n",
    "print(pattern.match(\"Helo World\"))\n",
    "print(pattern.match(\"Hello)0$#@\"))\n",
    "print(pattern.match(\"0123456789\"))"
   ]
  },
  {
   "cell_type": "code",
   "execution_count": 20,
   "metadata": {},
   "outputs": [
    {
     "data": {
      "text/plain": [
       "['A',\n",
       " 'ASCII',\n",
       " 'DEBUG',\n",
       " 'DOTALL',\n",
       " 'I',\n",
       " 'IGNORECASE',\n",
       " 'L',\n",
       " 'LOCALE',\n",
       " 'M',\n",
       " 'MULTILINE',\n",
       " 'Match',\n",
       " 'NOFLAG',\n",
       " 'Pattern',\n",
       " 'RegexFlag',\n",
       " 'S',\n",
       " 'Scanner',\n",
       " 'T',\n",
       " 'TEMPLATE',\n",
       " 'U',\n",
       " 'UNICODE',\n",
       " 'VERBOSE',\n",
       " 'X',\n",
       " '_MAXCACHE',\n",
       " '_MAXCACHE2',\n",
       " '__all__',\n",
       " '__builtins__',\n",
       " '__cached__',\n",
       " '__doc__',\n",
       " '__file__',\n",
       " '__loader__',\n",
       " '__name__',\n",
       " '__package__',\n",
       " '__path__',\n",
       " '__spec__',\n",
       " '__version__',\n",
       " '_cache',\n",
       " '_cache2',\n",
       " '_casefix',\n",
       " '_compile',\n",
       " '_compile_template',\n",
       " '_compiler',\n",
       " '_constants',\n",
       " '_parser',\n",
       " '_pickle',\n",
       " '_special_chars_map',\n",
       " '_sre',\n",
       " 'compile',\n",
       " 'copyreg',\n",
       " 'enum',\n",
       " 'error',\n",
       " 'escape',\n",
       " 'findall',\n",
       " 'finditer',\n",
       " 'fullmatch',\n",
       " 'functools',\n",
       " 'match',\n",
       " 'purge',\n",
       " 'search',\n",
       " 'split',\n",
       " 'sub',\n",
       " 'subn',\n",
       " 'template']"
      ]
     },
     "execution_count": 20,
     "metadata": {},
     "output_type": "execute_result"
    }
   ],
   "source": [
    "dir(re)"
   ]
  },
  {
   "cell_type": "code",
   "execution_count": null,
   "metadata": {},
   "outputs": [],
   "source": []
  }
 ],
 "metadata": {
  "kernelspec": {
   "display_name": "env",
   "language": "python",
   "name": "python3"
  },
  "language_info": {
   "codemirror_mode": {
    "name": "ipython",
    "version": 3
   },
   "file_extension": ".py",
   "mimetype": "text/x-python",
   "name": "python",
   "nbconvert_exporter": "python",
   "pygments_lexer": "ipython3",
   "version": "3.12.1"
  }
 },
 "nbformat": 4,
 "nbformat_minor": 2
}
