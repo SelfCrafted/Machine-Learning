{
 "cells": [
  {
   "cell_type": "markdown",
   "metadata": {},
   "source": [
    "# **String Module**\n",
    "\n",
    "**47** string methods"
   ]
  },
  {
   "cell_type": "code",
   "execution_count": 1,
   "metadata": {},
   "outputs": [
    {
     "name": "stdout",
     "output_type": "stream",
     "text": [
      "47 functions in string\n"
     ]
    }
   ],
   "source": [
    "# print(dir(str))\n",
    "string_methods =[x for x in dir(str) if not x.startswith('_')]\n",
    "print('{} functions in string'.format(len(string_methods)))"
   ]
  },
  {
   "cell_type": "code",
   "execution_count": 2,
   "metadata": {},
   "outputs": [
    {
     "name": "stdout",
     "output_type": "stream",
     "text": [
      "MARIO55\n"
     ]
    }
   ],
   "source": [
    "# Capitalize\n",
    "text: str = 'MaRio55'\n",
    "print(text.upper())\n"
   ]
  },
  {
   "cell_type": "code",
   "execution_count": 3,
   "metadata": {},
   "outputs": [
    {
     "name": "stdout",
     "output_type": "stream",
     "text": [
      "mario55\n"
     ]
    }
   ],
   "source": [
    "# lower\n",
    "text: str = 'MaRio55'\n",
    "print(text.lower())"
   ]
  },
  {
   "cell_type": "code",
   "execution_count": 4,
   "metadata": {},
   "outputs": [
    {
     "name": "stdout",
     "output_type": "stream",
     "text": [
      "mario55\n",
      "True\n"
     ]
    }
   ],
   "source": [
    "# casefold\n",
    "text: str = 'MaRio55'\n",
    "text2: str = 'mario55'\n",
    "\n",
    "print(text.casefold())\n",
    "print(text.casefold() == text2.casefold())"
   ]
  },
  {
   "cell_type": "code",
   "execution_count": 5,
   "metadata": {},
   "outputs": [
    {
     "name": "stdout",
     "output_type": "stream",
     "text": [
      "True\n",
      "False\n"
     ]
    }
   ],
   "source": [
    "# islower\n",
    "text: str = 'mario55'\n",
    "text2: str = 'Mario33'\n",
    "print(text.islower())\n",
    "print(text2.islower())\n"
   ]
  },
  {
   "cell_type": "code",
   "execution_count": 6,
   "metadata": {},
   "outputs": [
    {
     "name": "stdout",
     "output_type": "stream",
     "text": [
      "-------Luigi--------\n"
     ]
    }
   ],
   "source": [
    "# center\n",
    "text:str = 'Luigi'\n",
    "print(text.center(20, '-'))"
   ]
  },
  {
   "cell_type": "code",
   "execution_count": 7,
   "metadata": {},
   "outputs": [
    {
     "name": "stdout",
     "output_type": "stream",
     "text": [
      "3\n"
     ]
    }
   ],
   "source": [
    "# count\n",
    "text: str = 'Mario Mario Mario'\n",
    "print(text.count('Mario'))"
   ]
  },
  {
   "cell_type": "code",
   "execution_count": 8,
   "metadata": {},
   "outputs": [
    {
     "name": "stdout",
     "output_type": "stream",
     "text": [
      "b'Mario'\n"
     ]
    }
   ],
   "source": [
    "# encode\n",
    "text: str = 'Mario'\n",
    "print(text.encode(encoding='utf-8', errors='strict'))"
   ]
  },
  {
   "cell_type": "code",
   "execution_count": 9,
   "metadata": {},
   "outputs": [
    {
     "name": "stdout",
     "output_type": "stream",
     "text": [
      "True\n",
      "False\n",
      "True\n",
      "True\n"
     ]
    }
   ],
   "source": [
    "# endswith\n",
    "text: str = 'Mario'\n",
    "print(text.endswith('o'))\n",
    "print(text.endswith('a'))\n",
    "print(text.endswith('i', 0, 4)) # 'Mario' -> 'Mari'\n",
    "print(text.endswith(('o', 'a'))) # ends either with 'o' or 'a'"
   ]
  },
  {
   "cell_type": "code",
   "execution_count": 10,
   "metadata": {},
   "outputs": [
    {
     "name": "stdout",
     "output_type": "stream",
     "text": [
      "text           text           text\n"
     ]
    }
   ],
   "source": [
    "# expandtabs\n",
    "text: str = 'text\\ttext\\ttext';\n",
    "print(text.expandtabs(15))"
   ]
  },
  {
   "cell_type": "code",
   "execution_count": 11,
   "metadata": {},
   "outputs": [
    {
     "name": "stdout",
     "output_type": "stream",
     "text": [
      "12\n"
     ]
    }
   ],
   "source": [
    "# find\n",
    "text: str = 'Remember to comment and subs'\n",
    "position: int = text.find('comment') # returns the index of first occurrence of the word\n",
    "print(position)"
   ]
  },
  {
   "cell_type": "code",
   "execution_count": 12,
   "metadata": {},
   "outputs": [
    {
     "name": "stdout",
     "output_type": "stream",
     "text": [
      "I got 90 in subject\n",
      "I got 90 in subject\n",
      "I got 90 in Maths\n",
      "I got Maths in 85\n"
     ]
    }
   ],
   "source": [
    "#  format\n",
    "\n",
    "# Method 1\n",
    "text: str = 'I got {marks} in subject'\n",
    "print(text.format(marks=90, subject='Maths'))\n",
    "print(text.format(subject='Maths',marks=90))\n",
    "\n",
    "\n",
    "# Method 2\n",
    "text: str = 'I got {} in {}'\n",
    "print(text.format(90, 'Maths'))\n",
    "print(text.format('Maths', 85))\n"
   ]
  },
  {
   "cell_type": "code",
   "execution_count": 13,
   "metadata": {},
   "outputs": [
    {
     "name": "stdout",
     "output_type": "stream",
     "text": [
      "Coordinates: (5, 7)\n",
      "Coordinates: (0, 0)\n",
      "Coordinates: (1, 1)\n",
      "Coordinates: (2, 2)\n"
     ]
    }
   ],
   "source": [
    "# format_map\n",
    "text: str = 'Coordinates: ({x}, {y})'\n",
    "coordinate: dict = {'x': 5, 'y': 7}\n",
    "print(text.format_map(coordinate))\n",
    "\n",
    "coordinates = [{'x': 0, 'y': 0}, {'x': 1, 'y': 1}, {'x': 2, 'y': 2}]\n",
    "for coordinate in coordinates:\n",
    "    print(text.format_map(coordinate))"
   ]
  },
  {
   "cell_type": "code",
   "execution_count": 14,
   "metadata": {},
   "outputs": [
    {
     "name": "stdout",
     "output_type": "stream",
     "text": [
      "12\n"
     ]
    }
   ],
   "source": [
    "# index\n",
    "text: str = 'Remember to comment and subs'\n",
    "position: int = text.index('comment') # returns the index of first occurrence of the word\n",
    "print(position)\n",
    "\n",
    "# it is similar to .find() but with one difference and that is if the word is not found it will raise an exception  "
   ]
  },
  {
   "cell_type": "code",
   "execution_count": 15,
   "metadata": {},
   "outputs": [
    {
     "name": "stdout",
     "output_type": "stream",
     "text": [
      "True\n",
      "False\n"
     ]
    }
   ],
   "source": [
    "# isalnum\n",
    "text: str = 'Mario55'\n",
    "text2: str = '_Mario22'\n",
    "print(text.isalnum())\n",
    "print(text2.isalnum())"
   ]
  },
  {
   "cell_type": "code",
   "execution_count": 16,
   "metadata": {},
   "outputs": [
    {
     "name": "stdout",
     "output_type": "stream",
     "text": [
      "True\n",
      "False\n"
     ]
    }
   ],
   "source": [
    "# alpha\n",
    "text: str = 'Mario'\n",
    "text2: str = 'Mario55'\n",
    "print(text.isalpha())\n",
    "print(text2.isalpha())"
   ]
  },
  {
   "cell_type": "code",
   "execution_count": 17,
   "metadata": {},
   "outputs": [
    {
     "name": "stdout",
     "output_type": "stream",
     "text": [
      "True\n",
      "False\n"
     ]
    }
   ],
   "source": [
    "# isacsii\n",
    "text: str = 'Mario'\n",
    "text2: str = 'Mario55¥'\n",
    "\n",
    "print(text.isascii())\n",
    "print(text2.isascii())"
   ]
  },
  {
   "cell_type": "code",
   "execution_count": 18,
   "metadata": {},
   "outputs": [
    {
     "name": "stdout",
     "output_type": "stream",
     "text": [
      "True\n",
      "False\n",
      "True\n",
      "True\n",
      "True\n",
      "True\n",
      "False\n"
     ]
    }
   ],
   "source": [
    "text: str = '12345'\n",
    "text2: str = '¹⁴⁷⁹'\n",
    "\n",
    "# isdecimal\n",
    "print(text.isdecimal())\n",
    "print(text2.isdecimal())\n",
    "\n",
    "\n",
    "# isdigit\n",
    "print(text.isdigit())\n",
    "print(text2.isdigit())\n",
    "\n",
    "# isnumeric\n",
    "text3: str = '।॥' # Bengali full stop and double full stop\n",
    "print(text.isnumeric())\n",
    "print(text2.isnumeric())\n",
    "print(text3.isnumeric())"
   ]
  },
  {
   "cell_type": "code",
   "execution_count": 19,
   "metadata": {},
   "outputs": [
    {
     "name": "stdout",
     "output_type": "stream",
     "text": [
      "False\n",
      "True\n"
     ]
    }
   ],
   "source": [
    "# isidentifier\n",
    "\n",
    "text: str = 'hello-world'\n",
    "text2: str = 'hello_world'\n",
    "\n",
    "print(text.isidentifier())\n",
    "print(text2.isidentifier())"
   ]
  },
  {
   "cell_type": "code",
   "execution_count": 20,
   "metadata": {},
   "outputs": [
    {
     "name": "stdout",
     "output_type": "stream",
     "text": [
      "True\n",
      "False\n"
     ]
    }
   ],
   "source": [
    "# isprintable\n",
    "text: str = 'hello world'\n",
    "text2: str = 'hello\\nworld'\n",
    "\n",
    "print(text.isprintable())\n",
    "print(text2.isprintable())"
   ]
  },
  {
   "cell_type": "code",
   "execution_count": 21,
   "metadata": {},
   "outputs": [
    {
     "name": "stdout",
     "output_type": "stream",
     "text": [
      "True\n",
      "True\n"
     ]
    }
   ],
   "source": [
    "# isspace\n",
    "text: str = ' '\n",
    "text2: str = '  \\n\\t'\n",
    "print(text.isspace())\n",
    "print(text2.isspace())"
   ]
  },
  {
   "cell_type": "code",
   "execution_count": 22,
   "metadata": {},
   "outputs": [
    {
     "name": "stdout",
     "output_type": "stream",
     "text": [
      "True\n",
      "False\n",
      "True\n"
     ]
    }
   ],
   "source": [
    "# istitle\n",
    "text: str = 'Mario'\n",
    "text2: str = 'Mario is a plumber'\n",
    "text3: str = 'Mario Is A Plumber'\n",
    "print(text.istitle())\n",
    "print(text2.istitle())\n",
    "print(text3.istitle())\n"
   ]
  },
  {
   "cell_type": "code",
   "execution_count": 23,
   "metadata": {},
   "outputs": [
    {
     "name": "stdout",
     "output_type": "stream",
     "text": [
      "True\n",
      "False\n"
     ]
    }
   ],
   "source": [
    "# isupper\n",
    "text: str = 'MARIO'\n",
    "text2: str = 'Mario'\n",
    "print(text.isupper())\n",
    "print(text2.isupper())"
   ]
  },
  {
   "cell_type": "code",
   "execution_count": 24,
   "metadata": {},
   "outputs": [
    {
     "name": "stdout",
     "output_type": "stream",
     "text": [
      "My name is Sarang\n"
     ]
    }
   ],
   "source": [
    "# join\n",
    "text: list[str] = ['My', 'name', 'is', 'Sarang']\n",
    "joining_char: str = ' '\n",
    "print(joining_char.join(text))"
   ]
  },
  {
   "cell_type": "code",
   "execution_count": 25,
   "metadata": {},
   "outputs": [
    {
     "name": "stdout",
     "output_type": "stream",
     "text": [
      "Mario--------------------------------------------------\n",
      "--------------------------------------------------Mario\n"
     ]
    }
   ],
   "source": [
    "# ljust\n",
    "text: str = 'Mario'\n",
    "print(text.ljust(55, '-')) \n",
    "print(text.rjust(55, '-')) "
   ]
  },
  {
   "cell_type": "code",
   "execution_count": 26,
   "metadata": {},
   "outputs": [
    {
     "name": "stdout",
     "output_type": "stream",
     "text": [
      "text.\n"
     ]
    }
   ],
   "source": [
    "# lstrip\n",
    "text: str = 'Some text.'\n",
    "print(text.lstrip(' Some'))"
   ]
  },
  {
   "cell_type": "code",
   "execution_count": 27,
   "metadata": {},
   "outputs": [
    {
     "name": "stdout",
     "output_type": "stream",
     "text": [
      "{66: 128011}\n",
      "This is 🐋anana 🐋acon.\n"
     ]
    }
   ],
   "source": [
    "# maketrans\n",
    "text: str = 'This is Banana Bacon.'\n",
    "table = text.maketrans('B', '🐋')\n",
    "print(table)\n",
    "\n",
    "# translate\n",
    "print(text.translate(table))"
   ]
  },
  {
   "cell_type": "code",
   "execution_count": 28,
   "metadata": {},
   "outputs": [
    {
     "name": "stdout",
     "output_type": "stream",
     "text": [
      "('a+b', '=', 'c')\n"
     ]
    }
   ],
   "source": [
    "# partition\n",
    "text:str = 'a+b=c'\n",
    "print(text.partition('='))"
   ]
  },
  {
   "cell_type": "code",
   "execution_count": 29,
   "metadata": {},
   "outputs": [
    {
     "name": "stdout",
     "output_type": "stream",
     "text": [
      "['a+b', 'c']\n",
      "['This', 'is', 'some special stuff']\n"
     ]
    }
   ],
   "source": [
    "# split\n",
    "text:str = 'a+b=c'\n",
    "print(text.split('='))\n",
    "\n",
    "text: str = 'This is some special stuff'\n",
    "print(text.split(sep=' ', maxsplit=2))"
   ]
  },
  {
   "cell_type": "code",
   "execution_count": 30,
   "metadata": {},
   "outputs": [
    {
     "name": "stdout",
     "output_type": "stream",
     "text": [
      "['This is some', 'special', 'stuff']\n",
      "www.google.com\n"
     ]
    }
   ],
   "source": [
    "# rsplit\n",
    "text: str = 'This is some special stuff'\n",
    "print(text.rsplit(sep=' ', maxsplit=2))\n",
    "\n",
    "url:str ='https://www.google.com/search?q=python'\n",
    "print(url.split('://')[1].split('/')[0])"
   ]
  },
  {
   "cell_type": "code",
   "execution_count": 31,
   "metadata": {},
   "outputs": [
    {
     "name": "stdout",
     "output_type": "stream",
     "text": [
      "tsaaap\n"
     ]
    }
   ],
   "source": [
    "# removeprefix\n",
    "text:str = 'Whattsaaap'\n",
    "print(text.removeprefix('What'))"
   ]
  },
  {
   "cell_type": "code",
   "execution_count": 32,
   "metadata": {},
   "outputs": [
    {
     "name": "stdout",
     "output_type": "stream",
     "text": [
      "Whatt\n"
     ]
    }
   ],
   "source": [
    "# removesuffix\n",
    "text:str = 'Whattsaaap'\n",
    "print(text.removesuffix('saaap'))"
   ]
  },
  {
   "cell_type": "code",
   "execution_count": 33,
   "metadata": {},
   "outputs": [
    {
     "name": "stdout",
     "output_type": "stream",
     "text": [
      "Remember to like, like, comment!\n"
     ]
    }
   ],
   "source": [
    "# replace\n",
    "text:str = 'Remember to comment, comment, comment!'\n",
    "print(text.replace('comment', 'like',2))"
   ]
  },
  {
   "cell_type": "code",
   "execution_count": 34,
   "metadata": {},
   "outputs": [
    {
     "name": "stdout",
     "output_type": "stream",
     "text": [
      "24\n",
      "-1\n"
     ]
    }
   ],
   "source": [
    "# rfind\n",
    "text: str = 'A: some text A is here: A'\n",
    "print(text.rfind('A'))\n",
    "print(text.rfind('sarang')) # -1\n"
   ]
  },
  {
   "cell_type": "code",
   "execution_count": 35,
   "metadata": {},
   "outputs": [
    {
     "name": "stdout",
     "output_type": "stream",
     "text": [
      "24\n"
     ]
    }
   ],
   "source": [
    "# rindex\n",
    "text: str = 'A: some text A is here: A'\n",
    "print(text.rindex('A'))\n",
    "# print(text.rindex('sarang')) # error"
   ]
  },
  {
   "cell_type": "code",
   "execution_count": 36,
   "metadata": {},
   "outputs": [
    {
     "name": "stdout",
     "output_type": "stream",
     "text": [
      "------text\n"
     ]
    }
   ],
   "source": [
    "# rjust\n",
    "text: str = 'text'\n",
    "print(text.rjust(10, '-'))"
   ]
  },
  {
   "cell_type": "code",
   "execution_count": 37,
   "metadata": {},
   "outputs": [
    {
     "name": "stdout",
     "output_type": "stream",
     "text": [
      "('a=b', '=', 'c')\n",
      "('a', '=', 'b=c')\n"
     ]
    }
   ],
   "source": [
    "# rpartition\n",
    "text:str = 'a=b=c'\n",
    "print(text.rpartition('='))\n",
    "print(text.partition('='))"
   ]
  },
  {
   "cell_type": "code",
   "execution_count": 38,
   "metadata": {},
   "outputs": [
    {
     "name": "stdout",
     "output_type": "stream",
     "text": [
      "some text\n",
      " -_- \n"
     ]
    }
   ],
   "source": [
    "# strip\n",
    "text: str = '  some text  '\n",
    "text2: str = 'A -_- A'\n",
    "print(text.strip())\n",
    "print(text2.strip('A'))"
   ]
  },
  {
   "cell_type": "code",
   "execution_count": 39,
   "metadata": {},
   "outputs": [
    {
     "name": "stdout",
     "output_type": "stream",
     "text": [
      "  some text\n"
     ]
    }
   ],
   "source": [
    "# rstrip\n",
    "text: str = '  some text  '\n",
    "print(text.rstrip())"
   ]
  },
  {
   "cell_type": "code",
   "execution_count": 40,
   "metadata": {},
   "outputs": [
    {
     "name": "stdout",
     "output_type": "stream",
     "text": [
      "some text  \n"
     ]
    }
   ],
   "source": [
    "# lstrip\n",
    "text: str = '  some text  '\n",
    "print(text.lstrip())"
   ]
  },
  {
   "cell_type": "code",
   "execution_count": 41,
   "metadata": {},
   "outputs": [
    {
     "name": "stdout",
     "output_type": "stream",
     "text": [
      "['This is a', 'multiline', 'string\\ttabs']\n"
     ]
    }
   ],
   "source": [
    "# splitlines\n",
    "text: str = 'This is a\\nmultiline\\nstring\\ttabs'\n",
    "print(text.splitlines())"
   ]
  },
  {
   "cell_type": "code",
   "execution_count": 42,
   "metadata": {},
   "outputs": [
    {
     "name": "stdout",
     "output_type": "stream",
     "text": [
      "True\n",
      "True\n"
     ]
    }
   ],
   "source": [
    "# startswith\n",
    "text: str = 'Mario'\n",
    "print(text.startswith('M'))\n",
    "print(text.startswith('M', 0, 3))"
   ]
  },
  {
   "cell_type": "code",
   "execution_count": 43,
   "metadata": {},
   "outputs": [
    {
     "name": "stdout",
     "output_type": "stream",
     "text": [
      "mARIO\n"
     ]
    }
   ],
   "source": [
    "# swapcase\n",
    "text: str = 'Mario'\n",
    "print(text.swapcase())"
   ]
  },
  {
   "cell_type": "code",
   "execution_count": 44,
   "metadata": {},
   "outputs": [
    {
     "name": "stdout",
     "output_type": "stream",
     "text": [
      "Hello World!\n"
     ]
    }
   ],
   "source": [
    "# title\n",
    "text:str = 'hello World!'\n",
    "print(text.title())"
   ]
  },
  {
   "cell_type": "code",
   "execution_count": 45,
   "metadata": {},
   "outputs": [
    {
     "name": "stdout",
     "output_type": "stream",
     "text": [
      "0000000000000000text\n"
     ]
    }
   ],
   "source": [
    "# zfill\n",
    "text: str = 'text'\n",
    "print(text.zfill(20))"
   ]
  },
  {
   "cell_type": "code",
   "execution_count": null,
   "metadata": {},
   "outputs": [],
   "source": []
  }
 ],
 "metadata": {
  "kernelspec": {
   "display_name": "Python 3",
   "language": "python",
   "name": "python3"
  },
  "language_info": {
   "codemirror_mode": {
    "name": "ipython",
    "version": 3
   },
   "file_extension": ".py",
   "mimetype": "text/x-python",
   "name": "python",
   "nbconvert_exporter": "python",
   "pygments_lexer": "ipython3",
   "version": "3.12.1"
  }
 },
 "nbformat": 4,
 "nbformat_minor": 2
}
