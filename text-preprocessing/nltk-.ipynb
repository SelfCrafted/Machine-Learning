{
 "cells": [
  {
   "cell_type": "markdown",
   "metadata": {},
   "source": [
    "# **NLTK**"
   ]
  },
  {
   "cell_type": "code",
   "execution_count": 1,
   "metadata": {},
   "outputs": [],
   "source": [
    "import nltk\n",
    "import matplotlib.pyplot as plt\n",
    "import pandas as pd"
   ]
  },
  {
   "cell_type": "code",
   "execution_count": 2,
   "metadata": {},
   "outputs": [],
   "source": [
    "# nltk.download()"
   ]
  },
  {
   "cell_type": "code",
   "execution_count": 3,
   "metadata": {},
   "outputs": [],
   "source": [
    "text = \"\"\"Welcome to this shit show. I know how are you feeling. This is life nothing we can do here. Just bear and die.\"\"\""
   ]
  },
  {
   "cell_type": "code",
   "execution_count": 4,
   "metadata": {},
   "outputs": [
    {
     "name": "stdout",
     "output_type": "stream",
     "text": [
      "['Welcome', 'to', 'this', 'shit', 'show', '.', 'I', 'know', 'how', 'are', 'you', 'feeling', '.', 'This', 'is', 'life', 'nothing', 'we', 'can', 'do', 'here', '.', 'Just', 'bear', 'and', 'die', '.']\n"
     ]
    }
   ],
   "source": [
    "from nltk.tokenize import word_tokenize, sent_tokenize\n",
    "tokens = word_tokenize(text)\n",
    "print(tokens)"
   ]
  },
  {
   "cell_type": "code",
   "execution_count": 5,
   "metadata": {},
   "outputs": [
    {
     "name": "stdout",
     "output_type": "stream",
     "text": [
      "['Welcome to this shit show.', 'I know how are you feeling.', 'This is life nothing we can do here.', 'Just bear and die.']\n"
     ]
    }
   ],
   "source": [
    "sent_tokens = sent_tokenize(text)\n",
    "print(sent_tokens)"
   ]
  },
  {
   "cell_type": "code",
   "execution_count": 6,
   "metadata": {},
   "outputs": [
    {
     "name": "stdout",
     "output_type": "stream",
     "text": [
      "<FreqDist with 24 samples and 27 outcomes>\n",
      "[('.', 4), ('Welcome', 1), ('to', 1), ('this', 1), ('shit', 1)]\n"
     ]
    }
   ],
   "source": [
    "from nltk.probability import FreqDist\n",
    "print(fd:=FreqDist(tokens))\n",
    "print(fd.most_common(5))"
   ]
  },
  {
   "cell_type": "code",
   "execution_count": 7,
   "metadata": {},
   "outputs": [
    {
     "data": {
      "image/png": "[encoded data removed]",
      "text/plain": [
       "<Figure size 640x480 with 1 Axes>"
      ]
     },
     "metadata": {},
     "output_type": "display_data"
    }
   ],
   "source": [
    "fd.plot(30, cumulative=False)\n",
    "plt.show()"
   ]
  },
  {
   "cell_type": "markdown",
   "metadata": {},
   "source": [
    "## **Video 2**"
   ]
  },
  {
   "cell_type": "code",
   "execution_count": 8,
   "metadata": {},
   "outputs": [
    {
     "ename": "ParseError",
     "evalue": "unclosed token: line 36, column 4 (<string>)",
     "output_type": "error",
     "traceback": [
      "Traceback \u001b[1;36m(most recent call last)\u001b[0m:\n",
      "\u001b[0m  File \u001b[0;32me:\\Normal College\\Capstone\\self-prep\\env\\Lib\\site-packages\\IPython\\core\\interactiveshell.py:3577\u001b[0m in \u001b[0;35mrun_code\u001b[0m\n    exec(code_obj, self.user_global_ns, self.user_ns)\u001b[0m\n",
      "\u001b[0m  Cell \u001b[0;32mIn[8], line 1\u001b[0m\n    nltk.download('stopwords')\u001b[0m\n",
      "\u001b[0m  File \u001b[0;32me:\\Normal College\\Capstone\\self-prep\\env\\Lib\\site-packages\\nltk\\downloader.py:777\u001b[0m in \u001b[0;35mdownload\u001b[0m\n    for msg in self.incr_download(info_or_id, download_dir, force):\u001b[0m\n",
      "\u001b[0m  File \u001b[0;32me:\\Normal College\\Capstone\\self-prep\\env\\Lib\\site-packages\\nltk\\downloader.py:629\u001b[0m in \u001b[0;35mincr_download\u001b[0m\n    info = self._info_or_id(info_or_id)\u001b[0m\n",
      "\u001b[0m  File \u001b[0;32me:\\Normal College\\Capstone\\self-prep\\env\\Lib\\site-packages\\nltk\\downloader.py:603\u001b[0m in \u001b[0;35m_info_or_id\u001b[0m\n    return self.info(info_or_id)\u001b[0m\n",
      "\u001b[0m  File \u001b[0;32me:\\Normal College\\Capstone\\self-prep\\env\\Lib\\site-packages\\nltk\\downloader.py:1009\u001b[0m in \u001b[0;35minfo\u001b[0m\n    self._update_index()\u001b[0m\n",
      "\u001b[0m  File \u001b[0;32me:\\Normal College\\Capstone\\self-prep\\env\\Lib\\site-packages\\nltk\\downloader.py:952\u001b[0m in \u001b[0;35m_update_index\u001b[0m\n    ElementTree.parse(urlopen(self._url)).getroot()\u001b[0m\n",
      "\u001b[0m  File \u001b[0;32mC:\\Python312\\Lib\\xml\\etree\\ElementTree.py:1203\u001b[0m in \u001b[0;35mparse\u001b[0m\n    tree.parse(source, parser)\u001b[0m\n",
      "\u001b[1;36m  File \u001b[1;32mC:\\Python312\\Lib\\xml\\etree\\ElementTree.py:568\u001b[1;36m in \u001b[1;35mparse\u001b[1;36m\n\u001b[1;33m    self._root = parser._parse_whole(source)\u001b[1;36m\n",
      "\u001b[1;36m  File \u001b[1;32m<string>\u001b[1;36m\u001b[0m\n\u001b[1;31mParseError\u001b[0m\u001b[1;31m:\u001b[0m unclosed token: line 36, column 4\n"
     ]
    }
   ],
   "source": [
    "# nltk.download('stopwords')"
   ]
  },
  {
   "cell_type": "code",
   "execution_count": 10,
   "metadata": {},
   "outputs": [
    {
     "name": "stdout",
     "output_type": "stream",
     "text": [
      "179 stop words are there.\n",
      "They are as follows {'too', 'mustn', 'will', 'weren', 'while', 'how', 'but', 'didn', 'himself', 'off', 'than', 'she', 'the', 'to', 'y', 'not', 'doesn', 'o', 'most', 'me', 'are', 'them', 'of', \"you'd\", 'my', 'again', 'own', \"don't\", \"couldn't\", 'as', 've', 'your', 'over', 'each', 'am', \"didn't\", 'has', 'what', \"shan't\", 'd', \"that'll\", 'a', 'before', \"wouldn't\", \"isn't\", 'ain', 'him', 'down', 'hadn', 'against', 'no', 'which', 'i', 'with', 'few', 'whom', 'having', 't', 'should', \"haven't\", 'were', 'shan', \"you'll\", 'yourselves', 'after', 'between', 'on', 'so', 'those', 'very', 're', \"weren't\", 'aren', 'and', 'any', \"hasn't\", \"hadn't\", 'have', 'this', 'by', 'isn', 'm', 'because', 'haven', 'his', 'being', 's', 'shouldn', 'why', 'some', 'or', 'from', \"should've\", 'be', 'their', 'don', 'ma', 'during', \"shouldn't\", 'only', 'had', 'needn', 'into', 'same', 'her', \"she's\", 'about', 'mightn', 'it', 'he', 'when', 'an', 'up', \"you're\", 'these', 'doing', 'its', 'do', 'until', 'ourselves', 'can', \"it's\", 'other', 'at', 'did', 'that', 'above', 'then', 'for', 'where', 'yours', 'here', 'you', 'is', 'just', 'won', 'there', 'ours', 'myself', 'been', 'theirs', 'wouldn', 'in', 'under', 'herself', 'yourself', 'who', 'hasn', 'now', \"needn't\", 'we', \"you've\", 'was', 'hers', 'all', 'such', 'out', 'wasn', 'll', 'they', 'once', \"mustn't\", \"doesn't\", 'itself', 'further', 'if', 'more', \"won't\", 'below', \"wasn't\", 'nor', 'themselves', 'our', 'does', 'both', \"aren't\", 'couldn', \"mightn't\", 'through'}\n"
     ]
    }
   ],
   "source": [
    "from nltk.corpus import stopwords\n",
    "stop_words = set(stopwords.words('english'))\n",
    "print(f'{len(stop_words)} stop words are there.\\nThey are as follows {stop_words}')"
   ]
  },
  {
   "cell_type": "code",
   "execution_count": 11,
   "metadata": {},
   "outputs": [],
   "source": [
    "text = \"\"\"Welcome you to programming knowledge. Let's start with my and only my tutorial on NLTK. We shall learn the basics of NLTK here.\"\"\""
   ]
  },
  {
   "cell_type": "code",
   "execution_count": 12,
   "metadata": {},
   "outputs": [
    {
     "name": "stdout",
     "output_type": "stream",
     "text": [
      "['Welcome', 'you', 'to', 'programming', 'knowledge', '.', 'Let', \"'s\", 'start', 'with', 'my', 'and', 'only', 'my', 'tutorial', 'on', 'NLTK', '.', 'We', 'shall', 'learn', 'the', 'basics', 'of', 'NLTK', 'here', '.']\n"
     ]
    }
   ],
   "source": [
    "from nltk.tokenize import word_tokenize, sent_tokenize\n",
    "words = word_tokenize(text)\n",
    "print(words)"
   ]
  },
  {
   "cell_type": "code",
   "execution_count": 13,
   "metadata": {},
   "outputs": [
    {
     "data": {
      "text/plain": [
       "{\"'s\",\n",
       " '.',\n",
       " 'Let',\n",
       " 'NLTK',\n",
       " 'We',\n",
       " 'Welcome',\n",
       " 'basics',\n",
       " 'knowledge',\n",
       " 'learn',\n",
       " 'programming',\n",
       " 'shall',\n",
       " 'start',\n",
       " 'tutorial'}"
      ]
     },
     "execution_count": 13,
     "metadata": {},
     "output_type": "execute_result"
    }
   ],
   "source": [
    "token_without_stopwords = set([word for word in words if word not in stop_words])\n",
    "token_without_stopwords"
   ]
  },
  {
   "cell_type": "code",
   "execution_count": 14,
   "metadata": {},
   "outputs": [
    {
     "name": "stdout",
     "output_type": "stream",
     "text": [
      "Stop words removed from text are: \n",
      "{'you', 'to', 'the', 'of', 'and', 'only', 'here', 'on', 'with', 'my'}\n"
     ]
    }
   ],
   "source": [
    "print('Stop words removed from text are: ')\n",
    "print(set(words) - token_without_stopwords)"
   ]
  },
  {
   "cell_type": "markdown",
   "metadata": {},
   "source": [
    "## **Video 3**"
   ]
  },
  {
   "cell_type": "code",
   "execution_count": 15,
   "metadata": {},
   "outputs": [],
   "source": [
    "from nltk.stem import PorterStemmer, WordNetLemmatizer\n",
    "stemmer = PorterStemmer()\n",
    "lemmatizer = WordNetLemmatizer()"
   ]
  },
  {
   "cell_type": "code",
   "execution_count": 16,
   "metadata": {},
   "outputs": [],
   "source": [
    "demo_words = ['playing', 'happiness', 'going', 'doing', 'yes', 'no', 'I', 'having', 'eat', 'eaten', 'have', 'haved', 'code', 'coding', 'programming']"
   ]
  },
  {
   "cell_type": "code",
   "execution_count": 17,
   "metadata": {},
   "outputs": [
    {
     "data": {
      "text/plain": [
       "[['play', 'play', 'playing'],\n",
       " ['happi', 'happiness', 'happiness'],\n",
       " ['go', 'go', 'going'],\n",
       " ['do', 'do', 'doing'],\n",
       " ['ye', 'yes', 'yes'],\n",
       " ['no', 'no', 'no'],\n",
       " ['i', 'I', 'I'],\n",
       " ['have', 'have', 'having'],\n",
       " ['eat', 'eat', 'eat'],\n",
       " ['eaten', 'eat', 'eaten'],\n",
       " ['have', 'have', 'have'],\n",
       " ['have', 'have', 'haved'],\n",
       " ['code', 'code', 'code'],\n",
       " ['code', 'cod', 'coding'],\n",
       " ['program', 'program', 'programming']]"
      ]
     },
     "execution_count": 17,
     "metadata": {},
     "output_type": "execute_result"
    }
   ],
   "source": [
    "stemmed_words = [ [stemmer.stem(word), lemmatizer.lemmatize(word, \"v\"), word] for word in demo_words ]\n",
    "stemmed_words\n",
    "    "
   ]
  },
  {
   "cell_type": "code",
   "execution_count": 25,
   "metadata": {},
   "outputs": [
    {
     "data": {
      "text/html": [
       "<div>\n",
       "<style scoped>\n",
       "    .dataframe tbody tr th:only-of-type {\n",
       "        vertical-align: middle;\n",
       "    }\n",
       "\n",
       "    .dataframe tbody tr th {\n",
       "        vertical-align: top;\n",
       "    }\n",
       "\n",
       "    .dataframe thead th {\n",
       "        text-align: right;\n",
       "    }\n",
       "</style>\n",
       "<table border=\"1\" class=\"dataframe\">\n",
       "  <thead>\n",
       "    <tr style=\"text-align: right;\">\n",
       "      <th></th>\n",
       "      <th>Stemmed Words</th>\n",
       "      <th>Lemmatized Words</th>\n",
       "      <th>Original Words</th>\n",
       "    </tr>\n",
       "  </thead>\n",
       "  <tbody>\n",
       "    <tr>\n",
       "      <th>0</th>\n",
       "      <td>play</td>\n",
       "      <td>play</td>\n",
       "      <td>playing</td>\n",
       "    </tr>\n",
       "    <tr>\n",
       "      <th>1</th>\n",
       "      <td>happi</td>\n",
       "      <td>happiness</td>\n",
       "      <td>happiness</td>\n",
       "    </tr>\n",
       "    <tr>\n",
       "      <th>2</th>\n",
       "      <td>go</td>\n",
       "      <td>go</td>\n",
       "      <td>going</td>\n",
       "    </tr>\n",
       "    <tr>\n",
       "      <th>3</th>\n",
       "      <td>do</td>\n",
       "      <td>do</td>\n",
       "      <td>doing</td>\n",
       "    </tr>\n",
       "    <tr>\n",
       "      <th>4</th>\n",
       "      <td>ye</td>\n",
       "      <td>yes</td>\n",
       "      <td>yes</td>\n",
       "    </tr>\n",
       "    <tr>\n",
       "      <th>5</th>\n",
       "      <td>no</td>\n",
       "      <td>no</td>\n",
       "      <td>no</td>\n",
       "    </tr>\n",
       "    <tr>\n",
       "      <th>6</th>\n",
       "      <td>i</td>\n",
       "      <td>I</td>\n",
       "      <td>I</td>\n",
       "    </tr>\n",
       "    <tr>\n",
       "      <th>7</th>\n",
       "      <td>have</td>\n",
       "      <td>have</td>\n",
       "      <td>having</td>\n",
       "    </tr>\n",
       "    <tr>\n",
       "      <th>8</th>\n",
       "      <td>eat</td>\n",
       "      <td>eat</td>\n",
       "      <td>eat</td>\n",
       "    </tr>\n",
       "    <tr>\n",
       "      <th>9</th>\n",
       "      <td>eaten</td>\n",
       "      <td>eat</td>\n",
       "      <td>eaten</td>\n",
       "    </tr>\n",
       "    <tr>\n",
       "      <th>10</th>\n",
       "      <td>have</td>\n",
       "      <td>have</td>\n",
       "      <td>have</td>\n",
       "    </tr>\n",
       "    <tr>\n",
       "      <th>11</th>\n",
       "      <td>have</td>\n",
       "      <td>have</td>\n",
       "      <td>haved</td>\n",
       "    </tr>\n",
       "    <tr>\n",
       "      <th>12</th>\n",
       "      <td>code</td>\n",
       "      <td>code</td>\n",
       "      <td>code</td>\n",
       "    </tr>\n",
       "    <tr>\n",
       "      <th>13</th>\n",
       "      <td>code</td>\n",
       "      <td>cod</td>\n",
       "      <td>coding</td>\n",
       "    </tr>\n",
       "    <tr>\n",
       "      <th>14</th>\n",
       "      <td>program</td>\n",
       "      <td>program</td>\n",
       "      <td>programming</td>\n",
       "    </tr>\n",
       "  </tbody>\n",
       "</table>\n",
       "</div>"
      ],
      "text/plain": [
       "   Stemmed Words Lemmatized Words Original Words\n",
       "0           play             play        playing\n",
       "1          happi        happiness      happiness\n",
       "2             go               go          going\n",
       "3             do               do          doing\n",
       "4             ye              yes            yes\n",
       "5             no               no             no\n",
       "6              i                I              I\n",
       "7           have             have         having\n",
       "8            eat              eat            eat\n",
       "9          eaten              eat          eaten\n",
       "10          have             have           have\n",
       "11          have             have          haved\n",
       "12          code             code           code\n",
       "13          code              cod         coding\n",
       "14       program          program    programming"
      ]
     },
     "execution_count": 25,
     "metadata": {},
     "output_type": "execute_result"
    }
   ],
   "source": [
    "df = pd.DataFrame(stemmed_words)\n",
    "df.columns = ['Stemmed Words', 'Lemmatized Words', 'Original Words']\n",
    "df"
   ]
  },
  {
   "cell_type": "code",
   "execution_count": 26,
   "metadata": {},
   "outputs": [
    {
     "name": "stdout",
     "output_type": "stream",
     "text": [
      "['The', 'Mercury', 'Seven', 'group', 'American', 'astronauts', 'selected', 'fly', 'spacecraft', 'Project', 'Mercury', '.', 'Announced', 'NASA', 'April', '9', ',', '1959', ',', 'Scott', 'Carpenter', ',', 'Gordon', 'Cooper', ',', 'John', 'Glenn', ',', 'Gus', 'Grissom', ',', 'Wally', 'Schirra', ',', 'Alan', 'Shepard', ',', 'Deke', 'Slayton', 'created', 'new', 'profession', '.', 'The', 'group', 'piloted', 'spaceflights', 'Mercury', 'program', 'astronaut', 'board', 'May', '1961', 'May', '1963', ',', 'flew', 'Gemini', ',', 'Apollo', ',', 'Space', 'Shuttle', 'programs', '.', 'Shepard', 'became', 'first', 'American', 'enter', 'space', '1961', ',', 'walked', 'Moon', '1971', '.', 'Grissom', ',', 'flying', 'Mercury', 'Gemini', 'missions', ',', 'died', '1967', 'Apollo', '1', 'fire', ';', 'others', 'survived', 'past', 'retirement', 'service', '.', 'Schirra', 'commanded', 'Apollo', '7', ',', 'first', 'crewed', 'Apollo', 'flight', '.', 'Slayton', ',', 'grounded', 'atrial', 'fibrillation', ',', 'ultimately', 'flew', 'Apollo–Soyuz', 'Test', 'Project', '1975', '.', 'Glenn', 'became', 'first', 'American', 'orbit', '1962', ',', 'flew', 'Space', 'Shuttle', 'Discovery', '1998', 'become', ',', 'age', '77', ',', 'oldest', 'person', 'fly', 'space', 'time', '.']\n"
     ]
    }
   ],
   "source": [
    "text = \"\"\"The Mercury Seven were a group of American astronauts selected to fly spacecraft for Project Mercury. Announced by NASA on April 9, 1959, Scott Carpenter, Gordon Cooper, John Glenn, Gus Grissom, Wally Schirra, Alan Shepard, and Deke Slayton created a new profession. The group piloted all the spaceflights of the Mercury program that had an astronaut on board from May 1961 to May 1963, and some flew in the Gemini, Apollo, and Space Shuttle programs. Shepard became the first American to enter space in 1961, and walked on the Moon in 1971. Grissom, after flying Mercury and Gemini missions, died in 1967 in the Apollo 1 fire; the others survived past retirement from service. Schirra commanded Apollo 7, the first crewed Apollo flight. Slayton, grounded with atrial fibrillation, ultimately flew on the Apollo–Soyuz Test Project in 1975. Glenn became the first American in orbit in 1962, and flew on Space Shuttle Discovery in 1998 to become, at age 77, the oldest person to fly in space at the time.\"\"\"\n",
    "\n",
    "tokenized_words = word_tokenize(text)\n",
    "tokenized_words_without_stops = [word for word in tokenized_words if word not in stop_words]\n",
    "print(tokenized_words_without_stops)"
   ]
  },
  {
   "cell_type": "code",
   "execution_count": 27,
   "metadata": {},
   "outputs": [],
   "source": [
    "from nltk.sentiment import SentimentIntensityAnalyzer\n",
    "sia = SentimentIntensityAnalyzer()"
   ]
  },
  {
   "cell_type": "code",
   "execution_count": 21,
   "metadata": {},
   "outputs": [
    {
     "name": "stdout",
     "output_type": "stream",
     "text": [
      "{'neg': 0.0, 'neu': 0.465, 'pos': 0.535, 'compound': 0.3182}\n",
      "{'neg': 0.472, 'neu': 0.528, 'pos': 0.0, 'compound': -0.5542}\n"
     ]
    }
   ],
   "source": [
    "print(sia.polarity_scores(\"Programming is cool\"))\n",
    "print(sia.polarity_scores(\"You are a very big liar\"))"
   ]
  },
  {
   "cell_type": "markdown",
   "metadata": {},
   "source": [
    "## **Video 4**\n",
    "[Find Meanings , Synonyms and Antonyms of words using NLTK](https://www.youtube.com/watch?v=zu9AcxfklrI&list=PLS1QulWo1RIZDws-_0Bfw5FZFmQJWtMl1&index=4)"
   ]
  },
  {
   "cell_type": "code",
   "execution_count": 30,
   "metadata": {},
   "outputs": [
    {
     "name": "stdout",
     "output_type": "stream",
     "text": [
      "[Synset('computer.n.01'), Synset('calculator.n.01')]\n",
      "a machine for performing calculations automatically\n"
     ]
    }
   ],
   "source": [
    "from nltk.corpus import wordnet\n",
    "syn = wordnet.synsets('Computer')\n",
    "print(syn)\n",
    "print(syn[0].definition())"
   ]
  },
  {
   "cell_type": "code",
   "execution_count": 31,
   "metadata": {},
   "outputs": [
    {
     "name": "stdout",
     "output_type": "stream",
     "text": [
      "['computer', 'computing_machine', 'computing_device', 'data_processor', 'electronic_computer', 'information_processing_system', 'calculator', 'reckoner', 'figurer', 'estimator', 'computer']\n"
     ]
    }
   ],
   "source": [
    "synonyms = []\n",
    "for syn in wordnet.synsets('Computer'):\n",
    "    for lemma in syn.lemmas():\n",
    "        synonyms.append(lemma.name())\n",
    "print(synonyms)"
   ]
  },
  {
   "cell_type": "code",
   "execution_count": 34,
   "metadata": {},
   "outputs": [
    {
     "name": "stdout",
     "output_type": "stream",
     "text": [
      "Lemma('large.a.01.large')\n",
      "Lemma('large.a.01.big')\n",
      "Lemma('big.r.03.big')\n",
      "['large', 'big', 'big']\n"
     ]
    }
   ],
   "source": [
    "antonyms = []\n",
    "for syn in wordnet.synsets('small'):\n",
    "    for lemma in syn.lemmas():\n",
    "        # print(lemma.antonyms())\n",
    "        if lemma.antonyms():\n",
    "            # print(lemma.antonyms()[0])\n",
    "            antonyms.append(lemma.antonyms()[0].name())\n",
    "print(antonyms)"
   ]
  },
  {
   "cell_type": "code",
   "execution_count": null,
   "metadata": {},
   "outputs": [],
   "source": []
  }
 ],
 "metadata": {
  "kernelspec": {
   "display_name": "env",
   "language": "python",
   "name": "python3"
  },
  "language_info": {
   "codemirror_mode": {
    "name": "ipython",
    "version": 3
   },
   "file_extension": ".py",
   "mimetype": "text/x-python",
   "name": "python",
   "nbconvert_exporter": "python",
   "pygments_lexer": "ipython3",
   "version": "3.12.1"
  }
 },
 "nbformat": 4,
 "nbformat_minor": 2
}
